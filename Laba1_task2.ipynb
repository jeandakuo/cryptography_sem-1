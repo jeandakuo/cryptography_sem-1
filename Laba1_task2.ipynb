{
 "cells": [
  {
   "cell_type": "code",
   "execution_count": 1,
   "metadata": {},
   "outputs": [],
   "source": [
    "from math import gcd \n",
    "from random import randint"
   ]
  },
  {
   "cell_type": "code",
   "execution_count": 2,
   "metadata": {},
   "outputs": [],
   "source": [
    "def Jacobi(a,P): #a и P проверяеммые числа\n",
    "    if gcd(a, P) != 1: # НОД a и P\n",
    "        return 0 # Если a и P невзаимнопростые числа\n",
    "    else:\n",
    "        r = 1 #Значение числа якоби 1, -1 или 0\n",
    "        if a < 0:\n",
    "            a = -a\n",
    "            if P % 4 == 3:\n",
    "                r = - r\n",
    "        while a != 0:\n",
    "            t = 0\n",
    "            while a % 2 == 0: #избавление от нечености\n",
    "                t+=1\n",
    "                a = a / 2\n",
    "            if t % 2 == 1:\n",
    "                if P % 8 == 3 or P % 8 == 5:\n",
    "                    r = -r\n",
    "            if a % 4 == 3 and P % 4 == 3:\n",
    "                r = -r\n",
    "            c = a\n",
    "            a = P % c\n",
    "            P = c\n",
    "        return r"
   ]
  },
  {
   "cell_type": "code",
   "execution_count": 3,
   "metadata": {},
   "outputs": [],
   "source": [
    "def test_C_SH(n, k): # n - проверяемое число на прост, k - количетсво иттераций\n",
    "    for i in range(k):\n",
    "        a = randint(1, n - 1)\n",
    "        if gcd(a, n) != 1:\n",
    "            return False\n",
    "        deg = (n-1) / 2\n",
    "        sqr_a = pow(a, int(deg), n) \n",
    "        if Jacobi(a, n) % n != sqr_a:\n",
    "            return False\n",
    "    return True"
   ]
  },
  {
   "cell_type": "code",
   "execution_count": 36,
   "metadata": {},
   "outputs": [],
   "source": [
    "def goldbah(n, k): #n - четное число, k поличество итетерация для проверки на простоту \n",
    "    p = int(n / 2)\n",
    "    q = int(n / 2)\n",
    "    if p % 2 == 0:\n",
    "        p -= 1\n",
    "        q += 1\n",
    "    for i in range(n / 2):\n",
    "        if test_C_SH(p, k) == True and test_C_SH(q, k) == True:\n",
    "            return f'{n} есть сумма двух простых: {p} и {q} с вероятностью {1 - 2 ** (-k)}'\n",
    "        p -= 2\n",
    "        q += 2\n",
    "    return f'Гольдбах ошибся'\n",
    "        "
   ]
  },
  {
   "cell_type": "code",
   "execution_count": 37,
   "metadata": {},
   "outputs": [
    {
     "data": {
      "text/plain": [
       "True"
      ]
     },
     "execution_count": 37,
     "metadata": {},
     "output_type": "execute_result"
    }
   ],
   "source": [
    "test_C_SH(13, 2)"
   ]
  },
  {
   "cell_type": "code",
   "execution_count": 49,
   "metadata": {},
   "outputs": [
    {
     "data": {
      "text/plain": [
       "'26 есть сумма двух простых: 13 и 13 с вероятностью 0.9990234375'"
      ]
     },
     "execution_count": 49,
     "metadata": {},
     "output_type": "execute_result"
    }
   ],
   "source": [
    "goldbah(26, 10)"
   ]
  },
  {
   "cell_type": "code",
   "execution_count": null,
   "metadata": {},
   "outputs": [],
   "source": []
  }
 ],
 "metadata": {
  "kernelspec": {
   "display_name": "SageMath 9.2",
   "language": "sage",
   "name": "sagemath"
  },
  "language_info": {
   "codemirror_mode": {
    "name": "ipython",
    "version": 3
   },
   "file_extension": ".py",
   "mimetype": "text/x-python",
   "name": "python",
   "nbconvert_exporter": "python",
   "pygments_lexer": "ipython3",
   "version": "3.7.7"
  }
 },
 "nbformat": 4,
 "nbformat_minor": 4
}
