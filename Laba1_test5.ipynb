{
 "cells": [
  {
   "cell_type": "code",
   "execution_count": 33,
   "metadata": {},
   "outputs": [],
   "source": [
    "from random import randint"
   ]
  },
  {
   "cell_type": "code",
   "execution_count": 19,
   "metadata": {},
   "outputs": [],
   "source": [
    "# -*- coding: utf-8 -*-\n",
    "def form_dict():\n",
    "    d = {}\n",
    "    iter = 0\n",
    "    for i in range(97,123):\n",
    "        d[iter] = chr(i)\n",
    "        iter = iter +1\n",
    "    d[26] = ' ' # надо закоментить для поиска в строке из доашней работы\n",
    "    return d\n",
    "\n",
    "\n",
    "def get_key(d, value):\n",
    "    for k, v in d.items():\n",
    "        if v == value:\n",
    "            return k"
   ]
  },
  {
   "cell_type": "code",
   "execution_count": 2,
   "metadata": {},
   "outputs": [],
   "source": [
    "alphabet = form_dict()"
   ]
  },
  {
   "cell_type": "code",
   "execution_count": 3,
   "metadata": {},
   "outputs": [],
   "source": [
    "def Er(s): # рассширение последней строки до 64 симвоолов\n",
    "    r = len(s)\n",
    "    counter = 64 - (len(s) % 64)\n",
    "    for i in range(counter):\n",
    "        s += 'a'\n",
    "    return s"
   ]
  },
  {
   "cell_type": "code",
   "execution_count": 4,
   "metadata": {},
   "outputs": [],
   "source": [
    "def grouper(iterable, n):\n",
    "    args = [iter(iterable)] * n\n",
    "    return zip(*args)\n",
    "def grouper_2(state): #делит строку на равные куски по 64 знака\n",
    "    l = [''.join(i) for i in grouper(state, 64)]\n",
    "    return l\n"
   ]
  },
  {
   "cell_type": "code",
   "execution_count": 5,
   "metadata": {},
   "outputs": [],
   "source": [
    "def letter_to_num(string_list):\n",
    "    nums = [[get_key(alphabet, i) for i in l] for l in string_list]\n",
    "    return nums"
   ]
  },
  {
   "cell_type": "code",
   "execution_count": 6,
   "metadata": {},
   "outputs": [],
   "source": [
    "p_layer_order = [0, 16, 32, 48, 1, 17, 33, 49, 2, 18, 34, 50, 3, 19, 35, 51, 4, 20, 36, 52, 5, 21, 37, 53, 6, 22, 38, 54, 7, 23, 39, 55, 8, 24, 40, 56, 9, 25, 41, 57, 10, 26, 42, 58, 11, 27, 43, 59, 12, 28, 44, 60, 13, 29, 45, 61, 14, 30, 46, 62, 15, 31, 47, 63]\n",
    "p_layer_order_inv = [p_layer_order.index(x) for x in range(64)]\n",
    "\n",
    "# перестановка 64 символов между собой 1 прямая перестановка, обратная перестановка"
   ]
  },
  {
   "cell_type": "code",
   "execution_count": 7,
   "metadata": {},
   "outputs": [],
   "source": [
    "def player_en(state): #шифрование\n",
    "    state_p_layer = [0 for _ in range(64)]\n",
    "    for p_index, std_bits in enumerate(state): #P перестановка\n",
    "        state_p_layer[p_layer_order[p_index]] = std_bits\n",
    "    return state_p_layer\n",
    "\n",
    "def player_dec(state): #дешифрование\n",
    "    state_p_layer = [0 for _ in range(64)]\n",
    "    for p_index, std_bits in enumerate(state): #P перестановка\n",
    "        state_p_layer[p_layer_order_inv[p_index]] = std_bits\n",
    "    return state_p_layer"
   ]
  },
  {
   "cell_type": "code",
   "execution_count": 8,
   "metadata": {},
   "outputs": [],
   "source": [
    "def encript(s):\n",
    "    s = Er(s)\n",
    "    s = grouper_2 (s)\n",
    "    state  = letter_to_num(s)\n",
    "    s1 = ''\n",
    "    for j in range(len(state)):\n",
    "        en_state = player_en(state[j])\n",
    "        for i in en_state:\n",
    "            s1 += alphabet[i]\n",
    "    return s1"
   ]
  },
  {
   "cell_type": "code",
   "execution_count": 9,
   "metadata": {},
   "outputs": [],
   "source": [
    "def decript(s):\n",
    "    s = secret\n",
    "    s = grouper_2(s)\n",
    "    s1 =''\n",
    "    state = letter_to_num(s)\n",
    "    for j in range(len(state)):\n",
    "        dec_state = player_dec(state[j])\n",
    "        for i in dec_state:\n",
    "            s1 += alphabet[i]\n",
    "    return s1\n"
   ]
  },
  {
   "cell_type": "code",
   "execution_count": 10,
   "metadata": {},
   "outputs": [],
   "source": [
    "public_text = \"After school Kamal took the girls to the old house It was very old and very dirty too There was rubbish everywhere The windows were broken and the walls were damp It was scary Amy didnt like it There were paintings of zombies and skeletons on the walls Were going to take photos for the school art competition said Kamal Amy didnt like it but she didnt say anything Wheres Grant asked Tara Er hes buying more paint Kamal looked away quickly Tara thought he looked suspicious Its getting dark can we go now said Amy She didnt like zombies\".lower()"
   ]
  },
  {
   "cell_type": "code",
   "execution_count": 11,
   "metadata": {},
   "outputs": [
    {
     "name": "stdout",
     "output_type": "stream",
     "text": [
      "arh aotgs   stsrf oklohi tohe  ytsoa kerthlo wv eclmt  loeduiaeolnedyoewrieyrhiwddri  rausvweens  yrttesbheh  d av toh  b retwowebenha emtsaadtkrrndelw p  rmi eeo   led wsyydl  katwsraiac  niitew ngfmsdeooha  repts b  lnnelwterai ziases  leh einooenkt twsreitapoohcltminia nokhsreh  pt dmgg eo   oaceis ao t tftsorotoakl  niiuhi  tge nsadtkttedsah rgtkmi e   naniwer eydl bsdtyynhsaad a  im na ka c at hbnoptmlewqkt aeeugra aodaulatrrsy eiklo yiyrhot ksiutenacwowiu leucsstgrae  dghodsi  t kn ns heo poigid  goaamhi emsaaaaaaaaayedl baaaaaaaaaa  niziaaaaaaaaaasdtkoeaaaaaaaaaa\n"
     ]
    }
   ],
   "source": [
    "secret = encript(public_text)\n",
    "print(secret)"
   ]
  },
  {
   "cell_type": "code",
   "execution_count": 12,
   "metadata": {},
   "outputs": [
    {
     "name": "stdout",
     "output_type": "stream",
     "text": [
      "after school kamal took the girls to the old house it was very old and very dirty too there was rubbish everywhere the windows were broken and the walls were damp it was scary amy didnt like it there were paintings of zombies and skeletons on the walls were going to take photos for the school art competition said kamal amy didnt like it but she didnt say anything wheres grant asked tara er hes buying more paint kamal looked away quickly tara thought he looked suspicious its getting dark can we go now said amy she didnt like zombiesaaaaaaaaaaaaaaaaaaaaaaaaaaaaaaaaaaaaaaa\n"
     ]
    }
   ],
   "source": [
    "print(decript(secret))"
   ]
  },
  {
   "cell_type": "markdown",
   "metadata": {},
   "source": [
    "***Моя модификация***\n",
    "\n",
    "По символьный xor каждого значения \n"
   ]
  },
  {
   "cell_type": "code",
   "execution_count": 43,
   "metadata": {},
   "outputs": [
    {
     "name": "stdout",
     "output_type": "stream",
     "text": [
      "'\\x03\\x03\\x03\\x03'\n",
      "1111\n"
     ]
    }
   ],
   "source": [
    "# -*- coding: utf-8 -*-\n",
    "def sxor(s1, s2):\n",
    "    return ''.join(chr(ord(a) ^ ord(b)) for a, b in zip(s1, s2))\n",
    "\n",
    "\n",
    "print(repr(sxor('1111', '2222')))\n",
    "print(sxor(sxor('1111','2222'),'2222'))"
   ]
  },
  {
   "cell_type": "code",
   "execution_count": 39,
   "metadata": {},
   "outputs": [
    {
     "name": "stdout",
     "output_type": "stream",
     "text": [
      "r pkzkdcrcjvljwoobfeyqjikgeq gspboqslzrrqfr ivccagmd hckvqvnplifyopxysyapz wetvdhnbpuvk qqdtgqeulrhhm  bwyypiqlvcbofol ifuoqfsdepspk newcdayogyslkeogdqcaztpcilxwhwwdmpyiufvxdzurfujfbcwwymabhizminvb lpeseuhazvrifwkym  olzejxdewmbnpaisnhldfooimwjrvjhweu zcynkarcjmoveihezuhtmqowcrzuskhinpicsipvjm rr dcha yvoyz fuvhemsfdpztszecwuqdwfmrwmpiqzxhrrlf orxcwgjvqex nzazjmrsomjjcnyqthaollieowbjbh nwpuftkdv misvrw ivxinwcglgyveuffuqqaupnk gnqijl ffakbaxsldiagrn paefim ljwnqzsfendzgukhmuqauwfbchjttsqwgynzwfnxcwzs rxrndrpunvlge jmlqiogynwiwogvtakdxzcmhvmdkgvzmkypazjsflpw dzrshhztna u\n",
      "\n",
      "arh aotgs   stsrf oklohi tohe  ytsoa kerthlo wv eclmt  loeduiaeolnedyoewrieyrhiwddri  rausvweens  yrttesbheh  d av toh  b retwowebenha emtsaadtkrrndelw p  rmi eeo   led wsyydl  katwsraiac  niitew ngfmsdeooha  repts b  lnnelwterai ziases  leh einooenkt twsreitapoohcltminia nokhsreh  pt dmgg eo   oaceis ao t tftsorotoakl  niiuhi  tge nsadtkttedsah rgtkmi e   naniwer eydl bsdtyynhsaad a  im na ka c at hbnoptmlewqkt aeeugra aodaulatrrsy eiklo yiyrhot ksiutenacwowiu leucsstgrae  dghodsi  t kn ns heo poigid  goaamhi emsaaaaaaaaayedl baaaaaaaaaa  niziaaaaaaaaaasdtkoeaaaaaaaaaa\n"
     ]
    }
   ],
   "source": [
    "def key_gen(secret):\n",
    "    s1 = ''\n",
    "    for i in range (len(secret)):\n",
    "        a = randint(0, len(alphabet) - 1)\n",
    "        s1 += alphabet[a]\n",
    "    return s1\n",
    "key = key_gen(secret)\n",
    "print(key)\n",
    "print()\n",
    "print(secret)"
   ]
  },
  {
   "cell_type": "code",
   "execution_count": 41,
   "metadata": {},
   "outputs": [],
   "source": [
    "def encript_mod(secret, key):\n",
    "    return sxor(secret, key)\n",
    "\n",
    "def decript_mod(secret, key):\n",
    "    return sxor(secret, key)       "
   ]
  },
  {
   "cell_type": "code",
   "execution_count": 42,
   "metadata": {},
   "outputs": [
    {
     "name": "stdout",
     "output_type": "stream",
     "text": [
      "\u0013R\u0018K\u001b\u0004\u0010\u0004\u0001CJV\u001f\u001e",
      "\u0004\u001d",
      "\tB\t\u000e\u0015\u001e",
      "\u0002\u0000K\u0013\n",
      "\u0019EGS\t\u0016\u001c",
      "\u001e",
      "\u0012L\u0011\u0017\u0000\u0005\u000e\u001e",
      "OI\u0001\u0015C\u0004\u0004\u0001\tTHC\u0007\u0019\u0014\u0012\u001b\u0019\r",
      "\f",
      "\t\u0015\u0001\u0015\u001c",
      "\u0000\u001c",
      "\u001c",
      "\u0016\u0002\u0013E\u000e\u0017\u001c",
      "\u001f\u0013\f",
      "\n",
      "\u0010\u0019UV\u0019A\u0004\u0002\u0012\u0003\u0002\u0014\u000b",
      "\u0006LR\u0011\u001a\u0019TE\u0011\u0015\u0011\u001c",
      "\u0018IQ\bV\u0002\u0014O\u0012\u0000\u0004\u0000I\u0004U\u001d",
      "\u0014\u0012\u0004\u000b",
      "\u0012\u0015\u0011\u0015\u0005H\u000fE\u0012\u000e\u0010\u0012\u0018\u000e\u0003\r",
      "\u0018\u001e",
      "\u0019\u000b",
      "\u000b",
      "\u0002\b\u0006C\u0011ZT\u0002\u000e\u0000L\u001d",
      "\u0012\u0007WWD\u0001\u0015\u001d",
      "I\u0002\u0015\u000f\u0001\u0000\u0016UR\r",
      "\u0014\u001e",
      "\u0011\u0011\u0011\u0016\u001e",
      "\u0018\u000eAB\u0006\u0000\u0013\u0019\f",
      "\u0019V\f",
      "G\n",
      "\u001d",
      "\u0016\u0017\u0000\u001a\u0007\t\u001bVR\u001b\u0003\u0007\u001f\n",
      "MB\u0000O\u0000\u0014\u000b",
      "\u000f\u0014\u0013\u0011\u0012\u001f\u0003\u0007P\u001b\u0000\u0012\u001d",
      "\r",
      "\u001fDF\u0003\n",
      "\u0001M\u0012\u0003\u001c",
      "\u0019\u0005\r",
      "\u0019\u000e\u0001\u0000\u000e\u0014\n",
      "\u001c",
      "\u000e\b\u0006\u0002\u001a\u0002\u0000\u001e",
      "\u0006\u0005\u001c",
      "\b\u0013\u001b\u0001\u0015M\u001f\u0000\u001c",
      "\u000b",
      "\u0001\b\u0010\u001bKH\u0019\u001aP\r",
      "\u000e\u0014\u000eP\u0013\u0005M\u0000R\u001d",
      "A\u0007\u0006\u0001\u0012\u0000\u0018\u0019O\r",
      "ZT\u0000\u0001\u0005\u0007\u0017\u0002\u0007\t\u0005\u001b\u0016TS\u0014\f",
      "\n",
      "\u0002\u001d",
      "\u0018DW\u0012\n",
      "\u0017W\u0003\u0003\b\u0015\u000e\u0013\u001c",
      "\u0006\u0017\b\u0015A\u0007R\n",
      "\u0004\u0003\f",
      "\u0007\u001fQ\u0000X\u0000N\u0014\u0000\u0014\u0003\u001a\u0017\u0001O\b\u0013\u000e\u000fN\u001b\u0002\u0010\u001c",
      "\u0018\u0016\u0002\u0004\u001a\u0004\u000e\u0013B\u000b",
      "BHI\u0003W\u001e",
      "\u0014F\u001f\n",
      "D\u0015\u0000\f",
      "\u001d",
      "S\u001e",
      "\u0010\u0019O\u0019\u0002\u0015\u0005\u000b",
      "\u0000\u0012\f",
      "\u0018G\u0018\u0013\u0000\u0000\u0001\u0014\u0014Q\u0010\u000e\u0011\u0011\u001b\u0007A\u0013\u001c",
      "\u0003\u001a\u0013LE\u000f\r",
      "\r",
      "\u0004B\u0018\u0011\n",
      "\u001e",
      "\f",
      "\u0006\u0015G\u0019\u001d",
      "I\u0005\u0015\u0000\b\b\u000eW\u0003\u001d",
      "\u001e",
      "\u001bQ\u0016\u0016\u0013\u0006\u001d",
      "\u0017\u000e\u0000\u0007\n",
      "\r",
      "MU\u0015\u0006\u001d",
      "\u0018\u0002\u0011\n",
      "HJ\u0000T\u0018\u001fW\t\n",
      "N\u0012\u0012\tN\b\f",
      "\u001e",
      "\u001d",
      "\u001aDRX\u0015\u0001\u0005\u0013\u001d",
      "\u001d",
      "\u0007V\t\n",
      "\u0016A\u000b",
      "\f",
      "\r",
      "\u0010\b\u000e\u0006\u0018\u0017\u0012\r",
      "\u001bO\u0005\u0017\u0015\u0000\n",
      "\u0005\u0019\u001b\u0002\f",
      "\tVM\n",
      "\u0002\u001d",
      "\u001f\u001b\f",
      "\n",
      "\u0018\u0011\u0000\u001b\u000b",
      "\u0012\u0007\u001f\u0014\u0003K\u000b",
      "\u001f\u0013\u0012\t\t\u001b\u0015\u000f\u0000A\u0014\n",
      "\n",
      "arh aotgs   stsrf oklohi tohe  ytsoa kerthlo wv eclmt  loeduiaeolnedyoewrieyrhiwddri  rausvweens  yrttesbheh  d av toh  b retwowebenha emtsaadtkrrndelw p  rmi eeo   led wsyydl  katwsraiac  niitew ngfmsdeooha  repts b  lnnelwterai ziases  leh einooenkt twsreitapoohcltminia nokhsreh  pt dmgg eo   oaceis ao t tftsorotoakl  niiuhi  tge nsadtkttedsah rgtkmi e   naniwer eydl bsdtyynhsaad a  im na ka c at hbnoptmlewqkt aeeugra aodaulatrrsy eiklo yiyrhot ksiutenacwowiu leucsstgrae  dghodsi  t kn ns heo poigid  goaamhi emsaaaaaaaaayedl baaaaaaaaaa  niziaaaaaaaaaasdtkoeaaaaaaaaaa\n"
     ]
    }
   ],
   "source": [
    "secret_mod = encript_mod(secret, key)\n",
    "print(secret_mod)\n",
    "print()\n",
    "print(decript_mod(secret_mod, key))  \n"
   ]
  }
 ],
 "metadata": {
  "kernelspec": {
   "display_name": "Python 3",
   "language": "python",
   "name": "python3"
  },
  "language_info": {
   "codemirror_mode": {
    "name": "ipython",
    "version": 3
   },
   "file_extension": ".py",
   "mimetype": "text/x-python",
   "name": "python",
   "nbconvert_exporter": "python",
   "pygments_lexer": "ipython3",
   "version": "3.7.7"
  }
 },
 "nbformat": 4,
 "nbformat_minor": 4
}
