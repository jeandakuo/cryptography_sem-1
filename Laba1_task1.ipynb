{
 "cells": [
  {
   "cell_type": "code",
   "execution_count": 1,
   "metadata": {
    "scrolled": true
   },
   "outputs": [],
   "source": [
    "from math import gcd \n",
    "from random import randint"
   ]
  },
  {
   "cell_type": "code",
   "execution_count": 2,
   "metadata": {},
   "outputs": [],
   "source": [
    "def Jacobi(a,P): #a и P проверяеммые числа\n",
    "    if gcd(a, P) != 1: # НОД a и P\n",
    "        return 0 # Если a и P невзаимнопростые числа\n",
    "    else:\n",
    "        r = 1 #Значение числа якоби 1, -1 или 0\n",
    "        if a < 0:\n",
    "            a = -a\n",
    "            if P % 4 == 3:\n",
    "                r = - r\n",
    "        while a != 0:\n",
    "            t = 0\n",
    "            while a % 2 == 0: #избавление от нечености\n",
    "                t+=1\n",
    "                a = a / 2\n",
    "            if t % 2 == 1:\n",
    "                if P % 8 == 3 or P % 8 == 5:\n",
    "                    r = -r\n",
    "            if a % 4 == 3 and P % 4 == 3:\n",
    "                r = -r\n",
    "            c = a\n",
    "            a = P % c\n",
    "            P = c\n",
    "        return r"
   ]
  },
  {
   "cell_type": "code",
   "execution_count": 3,
   "metadata": {},
   "outputs": [],
   "source": [
    "def test_C_SH(n, k): # n - проверяемое число, k - количетсво иттераций\n",
    "    for i in range(k):\n",
    "        a = randint(1, n - 1)\n",
    "        if gcd(a, n) != 1:\n",
    "            return f'{n} - none simple'\n",
    "        deg = (n-1) / 2\n",
    "        sqr_a = pow(a, int(deg), n) \n",
    "        if Jacobi(a, n) % n != sqr_a:\n",
    "            return f'{n} - none simple'\n",
    "    return f'{n} - простое с вероятностью {1-2**(-k)}'"
   ]
  },
  {
   "cell_type": "code",
   "execution_count": 4,
   "metadata": {
    "scrolled": true
   },
   "outputs": [],
   "source": [
    "def test_ferma(n, k):\n",
    "    #if n % 2 == 0:\n",
    "      #  return 'none simple'\n",
    "    for i in range(k):\n",
    "        a = randint(1, n - 1)\n",
    "        if pow(a, n - 1, n) != 1:\n",
    "            return 'none simple'\n",
    "    return f' {n} is a simple num'"
   ]
  },
  {
   "cell_type": "code",
   "execution_count": 18,
   "metadata": {},
   "outputs": [
    {
     "data": {
      "text/plain": [
       "' 561 is a simple num'"
      ]
     },
     "execution_count": 18,
     "metadata": {},
     "output_type": "execute_result"
    }
   ],
   "source": [
    "test_ferma(561, 3)"
   ]
  },
  {
   "cell_type": "code",
   "execution_count": 19,
   "metadata": {},
   "outputs": [
    {
     "data": {
      "text/plain": [
       "'561 - none simple'"
      ]
     },
     "execution_count": 19,
     "metadata": {},
     "output_type": "execute_result"
    }
   ],
   "source": [
    "test_C_SH (561, 3)"
   ]
  },
  {
   "cell_type": "code",
   "execution_count": 20,
   "metadata": {},
   "outputs": [
    {
     "data": {
      "text/plain": [
       "'12345678912345678933 - none simple'"
      ]
     },
     "execution_count": 20,
     "metadata": {},
     "output_type": "execute_result"
    }
   ],
   "source": [
    "test_C_SH(12345678912345678933, 20)"
   ]
  }
 ],
 "metadata": {
  "kernelspec": {
   "display_name": "SageMath 9.2",
   "language": "sage",
   "name": "sagemath"
  },
  "language_info": {
   "codemirror_mode": {
    "name": "ipython",
    "version": 3
   },
   "file_extension": ".py",
   "mimetype": "text/x-python",
   "name": "python",
   "nbconvert_exporter": "python",
   "pygments_lexer": "ipython3",
   "version": "3.7.7"
  }
 },
 "nbformat": 4,
 "nbformat_minor": 4
}
