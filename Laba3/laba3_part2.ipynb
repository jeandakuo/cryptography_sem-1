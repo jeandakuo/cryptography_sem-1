{
 "cells": [
  {
   "cell_type": "code",
   "execution_count": 305,
   "metadata": {
    "scrolled": true
   },
   "outputs": [
    {
     "name": "stdout",
     "output_type": "stream",
     "text": [
      "45477745298662712314192239555914263435 164928248859189475376152111395925683749\n",
      "\n",
      "943781\n",
      "(15254, 47189, 113679, 353673)\n"
     ]
    }
   ],
   "source": [
    "import hashlib\n",
    "from random import randint\n",
    "from sage.interfaces.ecm import *\n",
    "\n",
    "m1 = \"Grigori loh\"\n",
    "m2 = \"Grigory ne loh\"\n",
    "Hm1 = int((hashlib.md5(m1.encode(\"utf-8\")).hexdigest()), 16)\n",
    "Hm2 = int((hashlib.md5(m2.encode(\"utf-8\")).hexdigest()), 16)\n",
    "print(Hm1, Hm2)\n",
    "\n",
    "p = random_prime(1000000, lbound = 900000 )\n",
    "print()\n",
    "print(p)\n",
    "\n",
    "def PK_and_SK(p):\n",
    "    \"\"\"\n",
    "    Создание открытого ключа\n",
    "    \n",
    "    \"\"\"\n",
    "    q = ecm.factor((p-1) / 2 )[-1]\n",
    "    x = randint(2, q - 1)\n",
    "    g = 1\n",
    "    while g == 1:\n",
    "        h = randint(1, p - 2)\n",
    "        g = pow(h,int((p -1) / q), p)\n",
    "    y = pow(g, x, p)\n",
    "    return x, q, g,  y\n",
    "print(PK_and_SK(p))\n",
    "\n",
    "def sign(p, q, x, g , mes, k):\n",
    "    if k > q:\n",
    "        return 'k > q'\n",
    "    r = int(int(pow(g, k, p)) % q)\n",
    "    k_minus1 = inverse_mod(k, q)\n",
    "    Hm = int((hashlib.md5(mes.encode(\"utf-8\")).hexdigest()), 16)\n",
    "    s = int((k_minus1 * (Hm + x * r))) % q\n",
    "    return Hm, r, s\n",
    "\n",
    "def sign_check(r, s, q, Hm, y, x):\n",
    "    w = inverse_mod(s, q)\n",
    "    u1 = int((Hm * w)) % q\n",
    "    u2 = int((r * w)) % q\n",
    "    v  = int(pow(g, u1 + u2 * x, p)) % q\n",
    "    v = int(pow(g, u1, p)*pow(y, u2, p)) % q \n",
    "    return v, r\n",
    "\n",
    "\n",
    "def secret(Hm1, Hm2, s1, s2, q):\n",
    "    \"\"\"\n",
    "    Поиск серкретного x по двум мообщениям подписанным одним (r, k)\n",
    "        \n",
    "    \"\"\"\n",
    "    \n",
    "    x = (Hm1 * inverse_mod(s1, q) - Hm2 * inverse_mod(s2, q)) *\\\n",
    "    inverse_mod(r * (inverse_mod(s2, q) - inverse_mod(s1, q)), q) % q\n",
    "    \n",
    "    return x"
   ]
  },
  {
   "cell_type": "code",
   "execution_count": 306,
   "metadata": {
    "scrolled": true
   },
   "outputs": [
    {
     "name": "stdout",
     "output_type": "stream",
     "text": [
      "3309 47189 619733 425923\n",
      "45477745298662712314192239555914263435 28936 43921\n",
      "201291268780051351498871390518114340427 28936 283\n",
      "28936 28936\n",
      "28936 28936\n"
     ]
    },
    {
     "ename": "TypeError",
     "evalue": "argument of type 'sage.rings.integer.Integer' is not iterable",
     "output_type": "error",
     "traceback": [
      "\u001b[0;31m---------------------------------------------------------------------------\u001b[0m",
      "\u001b[0;31mTypeError\u001b[0m                                 Traceback (most recent call last)",
      "\u001b[0;32m<ipython-input-306-9760782b981f>\u001b[0m in \u001b[0;36m<module>\u001b[0;34m\u001b[0m\n\u001b[1;32m     15\u001b[0m \u001b[0mprint\u001b[0m\u001b[0;34m(\u001b[0m\u001b[0mv2\u001b[0m\u001b[0;34m,\u001b[0m \u001b[0mr4\u001b[0m\u001b[0;34m)\u001b[0m\u001b[0;34m\u001b[0m\u001b[0;34m\u001b[0m\u001b[0m\n\u001b[1;32m     16\u001b[0m \u001b[0;34m\u001b[0m\u001b[0m\n\u001b[0;32m---> 17\u001b[0;31m \u001b[0mx_isk\u001b[0m \u001b[0;34m=\u001b[0m \u001b[0msecret\u001b[0m\u001b[0;34m(\u001b[0m\u001b[0mHm1\u001b[0m\u001b[0;34m,\u001b[0m \u001b[0mHm2\u001b[0m\u001b[0;34m,\u001b[0m \u001b[0ms1\u001b[0m\u001b[0;34m,\u001b[0m \u001b[0ms2\u001b[0m\u001b[0;34m,\u001b[0m \u001b[0mq\u001b[0m\u001b[0;34m)\u001b[0m\u001b[0;34m\u001b[0m\u001b[0;34m\u001b[0m\u001b[0m\n\u001b[0m\u001b[1;32m     18\u001b[0m \u001b[0mprint\u001b[0m\u001b[0;34m(\u001b[0m\u001b[0mx\u001b[0m\u001b[0;34m,\u001b[0m \u001b[0mx_isk\u001b[0m\u001b[0;34m)\u001b[0m\u001b[0;34m\u001b[0m\u001b[0;34m\u001b[0m\u001b[0m\n",
      "\u001b[0;32m<ipython-input-305-d58a6cc9043c>\u001b[0m in \u001b[0;36msecret\u001b[0;34m(Hm1, Hm2, s1, s2, q)\u001b[0m\n\u001b[1;32m     53\u001b[0m \u001b[0;34m\u001b[0m\u001b[0m\n\u001b[1;32m     54\u001b[0m     \u001b[0mx\u001b[0m \u001b[0;34m=\u001b[0m \u001b[0;34m(\u001b[0m\u001b[0mHm1\u001b[0m \u001b[0;34m*\u001b[0m \u001b[0minverse_mod\u001b[0m\u001b[0;34m(\u001b[0m\u001b[0ms1\u001b[0m\u001b[0;34m,\u001b[0m \u001b[0mq\u001b[0m\u001b[0;34m)\u001b[0m \u001b[0;34m-\u001b[0m \u001b[0mHm2\u001b[0m \u001b[0;34m*\u001b[0m \u001b[0minverse_mod\u001b[0m\u001b[0;34m(\u001b[0m\u001b[0ms2\u001b[0m\u001b[0;34m,\u001b[0m \u001b[0mq\u001b[0m\u001b[0;34m)\u001b[0m\u001b[0;34m)\u001b[0m \u001b[0;34m*\u001b[0m\u001b[0;31m\\\u001b[0m\u001b[0;34m\u001b[0m\u001b[0;34m\u001b[0m\u001b[0m\n\u001b[0;32m---> 55\u001b[0;31m     \u001b[0minverse_mod\u001b[0m\u001b[0;34m(\u001b[0m\u001b[0mr\u001b[0m \u001b[0;34m*\u001b[0m \u001b[0;34m(\u001b[0m\u001b[0minverse_mod\u001b[0m\u001b[0;34m(\u001b[0m\u001b[0ms2\u001b[0m\u001b[0;34m,\u001b[0m \u001b[0mq\u001b[0m\u001b[0;34m)\u001b[0m \u001b[0;34m-\u001b[0m \u001b[0minverse_mod\u001b[0m\u001b[0;34m(\u001b[0m\u001b[0ms1\u001b[0m\u001b[0;34m,\u001b[0m \u001b[0mq\u001b[0m\u001b[0;34m)\u001b[0m\u001b[0;34m)\u001b[0m\u001b[0;34m,\u001b[0m \u001b[0mq\u001b[0m\u001b[0;34m)\u001b[0m \u001b[0;34m%\u001b[0m \u001b[0mq\u001b[0m\u001b[0;34m\u001b[0m\u001b[0;34m\u001b[0m\u001b[0m\n\u001b[0m\u001b[1;32m     56\u001b[0m \u001b[0;34m\u001b[0m\u001b[0m\n\u001b[1;32m     57\u001b[0m     \u001b[0;32mreturn\u001b[0m \u001b[0mx\u001b[0m\u001b[0;34m\u001b[0m\u001b[0;34m\u001b[0m\u001b[0m\n",
      "\u001b[0;32m/opt/sagemath-9.2/local/lib/python3.7/site-packages/sage/arith/misc.py\u001b[0m in \u001b[0;36minverse_mod\u001b[0;34m(a, m)\u001b[0m\n\u001b[1;32m   2089\u001b[0m     \"\"\"\n\u001b[1;32m   2090\u001b[0m     \u001b[0;32mtry\u001b[0m\u001b[0;34m:\u001b[0m\u001b[0;34m\u001b[0m\u001b[0;34m\u001b[0m\u001b[0m\n\u001b[0;32m-> 2091\u001b[0;31m         \u001b[0;32mreturn\u001b[0m \u001b[0ma\u001b[0m\u001b[0;34m.\u001b[0m\u001b[0minverse_mod\u001b[0m\u001b[0;34m(\u001b[0m\u001b[0mm\u001b[0m\u001b[0;34m)\u001b[0m\u001b[0;34m\u001b[0m\u001b[0;34m\u001b[0m\u001b[0m\n\u001b[0m\u001b[1;32m   2092\u001b[0m     \u001b[0;32mexcept\u001b[0m \u001b[0mAttributeError\u001b[0m\u001b[0;34m:\u001b[0m\u001b[0;34m\u001b[0m\u001b[0;34m\u001b[0m\u001b[0m\n\u001b[1;32m   2093\u001b[0m         \u001b[0;32mreturn\u001b[0m \u001b[0mInteger\u001b[0m\u001b[0;34m(\u001b[0m\u001b[0ma\u001b[0m\u001b[0;34m)\u001b[0m\u001b[0;34m.\u001b[0m\u001b[0minverse_mod\u001b[0m\u001b[0;34m(\u001b[0m\u001b[0mm\u001b[0m\u001b[0;34m)\u001b[0m\u001b[0;34m\u001b[0m\u001b[0;34m\u001b[0m\u001b[0m\n",
      "\u001b[0;32m/opt/sagemath-9.2/local/lib/python3.7/site-packages/sage/structure/element.pyx\u001b[0m in \u001b[0;36msage.structure.element.CommutativeRingElement.inverse_mod (build/cythonized/sage/structure/element.c:20165)\u001b[0;34m()\u001b[0m\n\u001b[1;32m   2901\u001b[0m         \u001b[0;32mif\u001b[0m \u001b[0mI\u001b[0m\u001b[0;34m.\u001b[0m\u001b[0mis_one\u001b[0m\u001b[0;34m(\u001b[0m\u001b[0;34m)\u001b[0m\u001b[0;34m:\u001b[0m\u001b[0;34m\u001b[0m\u001b[0;34m\u001b[0m\u001b[0m\n\u001b[1;32m   2902\u001b[0m             \u001b[0;32mreturn\u001b[0m \u001b[0mself\u001b[0m\u001b[0;34m.\u001b[0m\u001b[0mparent\u001b[0m\u001b[0;34m(\u001b[0m\u001b[0;34m)\u001b[0m\u001b[0;34m.\u001b[0m\u001b[0mone\u001b[0m\u001b[0;34m(\u001b[0m\u001b[0;34m)\u001b[0m\u001b[0;34m\u001b[0m\u001b[0;34m\u001b[0m\u001b[0m\n\u001b[0;32m-> 2903\u001b[0;31m         \u001b[0;32melif\u001b[0m \u001b[0mself\u001b[0m \u001b[0;32min\u001b[0m \u001b[0mI\u001b[0m\u001b[0;34m:\u001b[0m\u001b[0;34m\u001b[0m\u001b[0;34m\u001b[0m\u001b[0m\n\u001b[0m\u001b[1;32m   2904\u001b[0m             \u001b[0;32mraise\u001b[0m \u001b[0mValueError\u001b[0m\u001b[0;34m(\u001b[0m\u001b[0;34m\"an element of a proper ideal does not have an inverse modulo that ideal\"\u001b[0m\u001b[0;34m)\u001b[0m\u001b[0;34m\u001b[0m\u001b[0;34m\u001b[0m\u001b[0m\n\u001b[1;32m   2905\u001b[0m         \u001b[0;32melif\u001b[0m \u001b[0mhasattr\u001b[0m\u001b[0;34m(\u001b[0m\u001b[0mself\u001b[0m\u001b[0;34m,\u001b[0m \u001b[0;34m\"is_unit\"\u001b[0m\u001b[0;34m)\u001b[0m \u001b[0;32mand\u001b[0m \u001b[0mself\u001b[0m\u001b[0;34m.\u001b[0m\u001b[0mis_unit\u001b[0m\u001b[0;34m(\u001b[0m\u001b[0;34m)\u001b[0m\u001b[0;34m:\u001b[0m\u001b[0;34m\u001b[0m\u001b[0;34m\u001b[0m\u001b[0m\n",
      "\u001b[0;31mTypeError\u001b[0m: argument of type 'sage.rings.integer.Integer' is not iterable"
     ]
    }
   ],
   "source": [
    "m1 = 'Grigori loh'\n",
    "m2 = 'Grigori ne loh'\n",
    "x, q, g,  y = PK_and_SK(p)\n",
    "print(x, q, g, y)\n",
    "k = 13\n",
    "Hm1, r1, s1 = sign(p, q, x, g, m1, k)\n",
    "Hm2, r2, s2 = sign(p, q, x, g, m2, k)\n",
    "print(Hm1, r1, s1)\n",
    "print(Hm2, r2, s2)\n",
    "\n",
    "v1, r3 = sign_check(r1, s1, q, Hm1, y, x)\n",
    "v2, r4 = sign_check(r2, s2, q, Hm2, y, x)\n",
    "\n",
    "print(v1, r3)\n",
    "print(v2, r4)\n",
    "\n",
    "x_isk = secret(Hm1, Hm2, s1, s2, q)\n",
    "print(x, x_isk)"
   ]
  },
  {
   "cell_type": "code",
   "execution_count": 243,
   "metadata": {},
   "outputs": [
    {
     "name": "stdout",
     "output_type": "stream",
     "text": [
      "93\n",
      "263\n"
     ]
    }
   ],
   "source": [
    "w1 = inverse_mod(s1, q)\n",
    "w2 = inverse_mod(s2, q)\n",
    "u11 = int((Hm1 * w1)) % q\n",
    "u12 = int((Hm2 * w2)) % q\n",
    "u21 = int((r * w1)) % q\n",
    "u22 = int((r * w2)) % q\n",
    "print(int(pow(g, (u11 + x * u21), p)) % q) \n",
    "print(int(pow(g, (u12 + x * u22), p)) % q)"
   ]
  },
  {
   "cell_type": "code",
   "execution_count": 229,
   "metadata": {},
   "outputs": [
    {
     "name": "stdout",
     "output_type": "stream",
     "text": [
      "1635 59552\n"
     ]
    }
   ],
   "source": [
    "w1 = inverse_mod(s1, q)\n",
    "u11 = int((Hm1 * w1)) % q\n",
    "u21 = int((r * w1)) % q\n",
    "v1  = int(pow(g, u11 + u21 * x, p)) % q\n",
    "\n",
    "w2 = inverse_mod(s2, q)\n",
    "u12 = int((Hm2 * w2)) % q\n",
    "u22 = int((r * w2)) % q\n",
    "v2  = int(pow(g, u12 + u22 * x, p)) % q\n",
    "\n",
    "print(v, v1)"
   ]
  },
  {
   "cell_type": "code",
   "execution_count": 265,
   "metadata": {
    "scrolled": true
   },
   "outputs": [
    {
     "name": "stdout",
     "output_type": "stream",
     "text": [
      "34981 411386 4255 49015 7302\n",
      "34981 411386 42811 31797 42282\n",
      "29812 34981\n",
      "\n",
      "29812 22181\n",
      "29812 34981\n"
     ]
    }
   ],
   "source": [
    "def sign_steal(r, s, q, Hm, y, x):\n",
    "    w = inverse_mod(s, q)\n",
    "    u1 = int((Hm * w)) % q\n",
    "    u2 = int((r * w)) % q\n",
    "    v  = int(pow(g, u1 + u2 * x, p)) % q\n",
    "    return v, r, u1, u2, w\n",
    "\n",
    "v, r, u1, u2, w1 = sign_steal(r, s1, q, Hm1, y, x)\n",
    "v, r, u12, u22, w2 = sign_steal(r, s2, q, Hm2, y, x)\n",
    "\n",
    "print(v, r, u12, u22, w2)\n",
    "\n",
    "deg1 = (u11 + x * u21)\n",
    "deg2 = (u12 + x * u22)\n",
    "\n",
    "print(int(pow(g, deg1, p)) %q,  int(pow(g, deg2, p)) % q)\n",
    "v1 = int(pow(g, u11, p)*pow(y, u21, p)) % q \n",
    "v2 = int(pow(g, u11, p)*pow(y, u22, p)) % q \n",
    "print()\n",
    "v11  = int(pow(g, u11 + u21 * x, p)) % q\n",
    "v22  = int(pow(g, u12 + u22 * x, p)) % q\n",
    "print(v1, v2)\n",
    "print(v11, v22)"
   ]
  },
  {
   "cell_type": "code",
   "execution_count": 270,
   "metadata": {},
   "outputs": [
    {
     "name": "stdout",
     "output_type": "stream",
     "text": [
      "59036 411386 30839 51078 11698\n",
      "11189 411386 28399 43760 59927\n"
     ]
    }
   ],
   "source": [
    "def sign_steal(r, s, q, Hm, y, x):\n",
    "    w = inverse_mod(s, q)\n",
    "    u1 = int((Hm * w)) % q\n",
    "    u2 = int((r * w)) % q\n",
    "    v  = int(pow(g, u1 + u2 * x, p)) % q\n",
    "    return v, r, u1, u2, w\n",
    "\n",
    "v, r, u1, u2, w = sign_steal(r, s1, q, Hm1, y, x)\n",
    "print(v, r, u1, u2, w)\n",
    "v, r, u1, u2, w = sign_steal(r, s2, q, Hm2, y, x)\n",
    "print(v, r, u1, u2, w)"
   ]
  },
  {
   "cell_type": "code",
   "execution_count": null,
   "metadata": {},
   "outputs": [],
   "source": []
  },
  {
   "cell_type": "code",
   "execution_count": null,
   "metadata": {},
   "outputs": [],
   "source": []
  }
 ],
 "metadata": {
  "kernelspec": {
   "display_name": "SageMath 9.2",
   "language": "sage",
   "name": "sagemath"
  },
  "language_info": {
   "codemirror_mode": {
    "name": "ipython",
    "version": 3
   },
   "file_extension": ".py",
   "mimetype": "text/x-python",
   "name": "python",
   "nbconvert_exporter": "python",
   "pygments_lexer": "ipython3",
   "version": "3.7.7"
  }
 },
 "nbformat": 4,
 "nbformat_minor": 4
}
