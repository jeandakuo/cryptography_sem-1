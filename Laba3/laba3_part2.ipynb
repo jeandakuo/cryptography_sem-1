{
 "cells": [
  {
   "cell_type": "code",
   "execution_count": 34,
   "metadata": {
    "scrolled": true
   },
   "outputs": [
    {
     "name": "stdout",
     "output_type": "stream",
     "text": [
      "\n",
      "980687\n",
      "(4254, 10007, 78177, 493346)\n"
     ]
    }
   ],
   "source": [
    "import hashlib\n",
    "from random import randint\n",
    "from sage.interfaces.ecm import *\n",
    "\n",
    "p = random_prime(1000000, lbound = 900000 )\n",
    "print()\n",
    "print(p)\n",
    "\n",
    "def PK_and_SK(p):\n",
    "    \"\"\"\n",
    "    Создание открытого ключа\n",
    "    \n",
    "    \"\"\"\n",
    "    q = ecm.factor((p-1) / 2 )[-1]\n",
    "    x = randint(2, q - 1)\n",
    "    g = 1\n",
    "    while g == 1:\n",
    "        h = randint(1, p - 2)\n",
    "        g = pow(h,int((p -1) / q), p)\n",
    "    y = pow(g, x, p)\n",
    "    return x, q, g,  y\n",
    "print(PK_and_SK(p))\n",
    "\n",
    "def sign(p, q, x, g , mes, k):\n",
    "    \n",
    "    if k > q:\n",
    "        return 'k > q'\n",
    "    r = int(int(pow(g, k, p)) % q)\n",
    "    k_minus1 = inverse_mod(k, q)\n",
    "    Hm = int((hashlib.md5(mes.encode(\"utf-8\")).hexdigest()), 16)\n",
    "    s = int((k_minus1 * (Hm + x * r))) % q\n",
    "    return Hm, r, s\n",
    "\n",
    "def sign_check(r, s, q, Hm, y, x):\n",
    "    w = inverse_mod(s, q)\n",
    "    u1 = int((Hm * w)) % q\n",
    "    u2 = int((r * w)) % q\n",
    "    v  = int(pow(g, u1 + u2 * x, p)) % q\n",
    "    v = int(pow(g, u1, p)*pow(y, u2, p)) % q \n",
    "    return v, r\n",
    "\n",
    "\n",
    "def secret(Hm1, Hm2, s1, s2, q):\n",
    "    \"\"\"\n",
    "    Поиск серкретного x по двум мообщениям подписанным одним (r, k)\n",
    "        \n",
    "    \"\"\"\n",
    "    \n",
    "    x = (Hm1 * inverse_mod(s1, q) - Hm2 * inverse_mod(s2, q)) * inverse_mod((r1 * (inverse_mod(s2, q) - inverse_mod(s1, q))+q), q) % q\n",
    "    \n",
    "    return x"
   ]
  },
  {
   "cell_type": "code",
   "execution_count": 35,
   "metadata": {
    "scrolled": true
   },
   "outputs": [
    {
     "name": "stdout",
     "output_type": "stream",
     "text": [
      "6293 10007 466166 924821\n",
      "Подпись сообщения m1 = Успею ли я загрузить?, s1 = 9701\n",
      "Подпись сообщения m1 = Успею ли я загрузить?, s1 = 9701\n",
      "Проверка подписи: v1 = 1448 равно r = 1448\n",
      "Проверка подписи: v2 = 1448 равно r = 1448\n",
      "Боб думал, мы не узнаем секретный ключ x  = 6293, а мы его нашли :с. Он равен 6293\n"
     ]
    }
   ],
   "source": [
    "m1 = 'Успею ли я загрузить?'\n",
    "m2 = 'Успел'\n",
    "x, q, g,  y = PK_and_SK(p)\n",
    "print(x, q, g, y)\n",
    "k = 13\n",
    "Hm1, r1, s1 = sign(p, q, x, g, m1, k)\n",
    "Hm2, r2, s2 = sign(p, q, x, g, m2, k)\n",
    "print(f'Подпись сообщения m1 = {m1}, s1 = {s1}')\n",
    "print(f'Подпись сообщения m1 = {m1}, s1 = {s1}')\n",
    "\n",
    "v1, r3 = sign_check(r1, s1, q, Hm1, y, x)\n",
    "v2, r4 = sign_check(r2, s2, q, Hm2, y, x)\n",
    "\n",
    "print(f'Проверка подписи: v1 = {v1} равно r = {r3}')\n",
    "print(f'Проверка подписи: v2 = {v2} равно r = {r4}')\n",
    "\n",
    "\n",
    "print(f'Боб думал, мы не узнаем секретный ключ x  = {x}, а мы его нашли :с. Он равен {secret(Hm1, Hm2, s1, s2, q)}' ) # секретный x\n"
   ]
  },
  {
   "cell_type": "code",
   "execution_count": null,
   "metadata": {},
   "outputs": [],
   "source": []
  }
 ],
 "metadata": {
  "kernelspec": {
   "display_name": "SageMath 9.2",
   "language": "sage",
   "name": "sagemath"
  },
  "language_info": {
   "codemirror_mode": {
    "name": "ipython",
    "version": 3
   },
   "file_extension": ".py",
   "mimetype": "text/x-python",
   "name": "python",
   "nbconvert_exporter": "python",
   "pygments_lexer": "ipython3",
   "version": "3.7.7"
  }
 },
 "nbformat": 4,
 "nbformat_minor": 4
}
