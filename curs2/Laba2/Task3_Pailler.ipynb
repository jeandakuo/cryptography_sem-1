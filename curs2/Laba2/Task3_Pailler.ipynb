{
 "cells": [
  {
   "cell_type": "code",
   "execution_count": 2,
   "metadata": {},
   "outputs": [],
   "source": [
    "from random import randint\n",
    "\n",
    "class Loterry():\n",
    "    \n",
    "    def __init__(self, p:int, q: int):\n",
    "        self.n = p * q\n",
    "        self.lyambda = lcm(p-1, q-1)\n",
    "        \n",
    "    def generation(self):\n",
    "        self.g = randint(0, self.n * self.n)\n",
    "        i = 0\n",
    "        while i == 0:\n",
    "            try:\n",
    "                self.g = inverse_mod(self.g, self.n * self.n)\n",
    "                i = 1\n",
    "            except ZeroDivisionError:\n",
    "                i += 0\n",
    "                self.g = randint(0, self.n * self.n)\n",
    "        self.nu = inverse_mod(self.Lu(int(pow(self.g, self.lyambda, self.n * self.n)), self.n), self.n)\n",
    "        return self.n, self.g, self.lyambda, self.nu\n",
    "    \n",
    "    def encryption(self, m = 113, n = 0, g = 0):\n",
    "        if n == 0:\n",
    "            n = self.n\n",
    "        if g == 0:\n",
    "            g = self.g\n",
    "        r = randint(0, n)\n",
    "        i = 0\n",
    "        while i == 0:\n",
    "            try:\n",
    "                self.r = inverse_mod(r, n)\n",
    "                i = 1\n",
    "            except ZeroDivisionError:\n",
    "                i += 0\n",
    "                r = randint(0, n * n)\n",
    "        self.c = int(pow(g, m, n * n)*pow(r, n, n * n))\n",
    "        return self.c\n",
    "    \n",
    "    def decryption(self, c, lyambda = 0, nu = 0):\n",
    "        if lyambda == 0:\n",
    "            lyambda = self.lyambda\n",
    "        if nu == 0:\n",
    "            nu = self.nu\n",
    "        self.m = (self.Lu(int(pow(c, lyambda, n * n)), n) * nu) % n\n",
    "        return self.m\n",
    "        \n",
    "    def Lu(self, u, n):\n",
    "        lu = (u - 1) // n\n",
    "        return lu\n"
   ]
  },
  {
   "cell_type": "code",
   "execution_count": 27,
   "metadata": {},
   "outputs": [
    {
     "name": "stdout",
     "output_type": "stream",
     "text": [
      "347371 106783042171 173096 179465\n",
      "31146202499\n",
      "113\n"
     ]
    }
   ],
   "source": [
    "gos_lotto = Loterry(random_prime(2^10), random_prime(2^10))\n",
    "n, g, lyambda, nu = gos_lotto.generation()\n",
    "print(n, g, lyambda, nu)\n",
    "c = gos_lotto.encryption()\n",
    "print(c)\n",
    "print(gos_lotto.decryption(c))\n"
   ]
  },
  {
   "cell_type": "code",
   "execution_count": 3,
   "metadata": {},
   "outputs": [],
   "source": [
    " def lottery_start(gos_lotto, N, n, g):\n",
    "    s = []\n",
    "    S = 1\n",
    "    for i in range(N):\n",
    "        c = gos_lotto.encryption(randint(0, n - 1), n, g)\n",
    "        s.append(c)\n",
    "        S = S*c\n",
    "    return S\n",
    "def lottery_check(gos_lotto, lyambda, nu, S):\n",
    "    winner = gos_lotto.decryption(S, lyambda, nu) % N\n",
    "    return winner\n"
   ]
  },
  {
   "cell_type": "code",
   "execution_count": 6,
   "metadata": {},
   "outputs": [
    {
     "name": "stdout",
     "output_type": "stream",
     "text": [
      "Число участников лотереии: 962\n",
      "У нас есть Победитель!!!!!!!! Номер билета победителя: 132\n"
     ]
    }
   ],
   "source": [
    "gos_lotto = Loterry(random_prime(2^50), random_prime(2^50))\n",
    "n, g, lyambda, nu = gos_lotto.generation()\n",
    "N = randint(900, 1000) \n",
    "print(f'Число участников лотереии: {N}')\n",
    "S = lottery_start(gos_lotto, N, n, g)\n",
    "winner = lottery_check(gos_lotto, lyambda, nu, S)\n",
    "print(f'У нас есть Победитель!!!!!!!! Номер билета победителя: {winner}')\n"
   ]
  },
  {
   "cell_type": "code",
   "execution_count": null,
   "metadata": {},
   "outputs": [],
   "source": []
  },
  {
   "cell_type": "code",
   "execution_count": null,
   "metadata": {},
   "outputs": [],
   "source": []
  }
 ],
 "metadata": {
  "kernelspec": {
   "display_name": "SageMath 9.2",
   "language": "sage",
   "name": "sagemath"
  },
  "language_info": {
   "codemirror_mode": {
    "name": "ipython",
    "version": 3
   },
   "file_extension": ".py",
   "mimetype": "text/x-python",
   "name": "python",
   "nbconvert_exporter": "python",
   "pygments_lexer": "ipython3",
   "version": "3.7.7"
  }
 },
 "nbformat": 4,
 "nbformat_minor": 4
}
