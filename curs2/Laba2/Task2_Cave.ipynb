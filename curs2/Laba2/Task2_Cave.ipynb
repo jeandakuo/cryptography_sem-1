{
 "cells": [
  {
   "cell_type": "code",
   "execution_count": 20,
   "metadata": {},
   "outputs": [],
   "source": [
    "import time\n",
    "from random import randint\n",
    "def Cave():\n",
    "    print('Алибаба шел по пустыне с караваном')\n",
    "    time.sleep(1)\n",
    "    print('На него напали разбойники')\n",
    "    time.sleep(2)\n",
    "    print('Алибаба с поскакал в сторону пещеры, у которой он обычно отдыхал, потому что знал, что только там он сможет спастись ')\n",
    "    time.sleep(3)\n",
    "    print('Пещера была с развилкой и непреодолимой стеной в самом ее центре. Только зная секрет можно пройти сквозь нее.')\n",
    "    #time.sleep(3)\n",
    "    print('Алиба вошел в пещеру. И скрылся от глаз разбойников')\n",
    "    time.sleep(2)\n",
    "    print('Его приключение начинается')\n",
    "    time.sleep(2)\n",
    "    key = int(input('Знает ли Алибаба секрет? 1 - да, 0 - нет: '))\n",
    "    print(key)\n",
    "    if key == 1:\n",
    "        print('Алибаба смело пошел к Секретной двери')\n",
    "        time.sleep(2)\n",
    "        b = randint(0, 1)\n",
    "        if b == 1:\n",
    "            way = 'сзади' \n",
    "            retrit = 'пройшел сквозь дверь и оставил бандитов позади'\n",
    "        else:\n",
    "            way = 'спереди'\n",
    "            retrit = 'вернулся к двери и бежал тем же путем, каким пришел'\n",
    "        print(f'Алибаба  слышит разбойники {way}. Алибаба  {retrit}.')\n",
    "        time.sleep(2)\n",
    "    else:\n",
    "        print('Алибаба дошел до развилки и замер')\n",
    "        time.sleep(1)\n",
    "        choice = int(input('Куда ему повернуть? Налево - 1, Направо - 0'))\n",
    "        с = randint(0, 1)\n",
    "        if с == 1:\n",
    "            way = 'Он слышит лязг мечей позади. Алибаба молится ведь, это его последний день среди живых'\n",
    "        else:\n",
    "            way = \"Он слышит лязг мечей за дверью и убегает обратно откуда прибежал\"\n",
    "        print(f'Алибаба дошел до непреодолимой стены. {way}')\n",
    "        time.sleep(2)\n",
    "    test = 0\n",
    "    counter = 0\n",
    "    while test == 0:\n",
    "        if key == 1 :\n",
    "            if counter == 0:\n",
    "                print('На выходе из пещеры появилась странная сущность.')\n",
    "                time.sleep(2)\n",
    "                print('Алибаба не сразу его узнал. Это был Аль-Кутбай. Бог учености, знаний, торговли, гаданий.')\n",
    "                time.sleep(2)\n",
    "            else: \n",
    "                print('Перед ним что-то мерцает. Это снова был Аль-Кутбай.')\n",
    "                time.sleep(2)\n",
    "            counter += 1    \n",
    "            print('Он обратился к Алибабе. И спросил: \"ты хочешь заново пройти эту дорогу?\"')\n",
    "            time.sleep(2)\n",
    "            test = int(input('0 - для да, 1 - для нет'))\n",
    "            if test == 1:\n",
    "                print('Алибаба выходит из пещеры и скрывается от разбойников')\n",
    "                time.sleep(2)\n",
    "                break\n",
    "            else:\n",
    "                print('Глаза алибабы затянула пелена. ичерез мгновение он снова стоял у развилки')\n",
    "                time.sleep(2)\n",
    "                print('Алибаба смело пошел к Секретной двери')\n",
    "                time.sleep(2)\n",
    "                time.sleep(2)\n",
    "                b = randint(0, 1)\n",
    "                if b == 1:\n",
    "                    way = 'сзади' \n",
    "                    retrit = 'пройшел сквозь дверь и оставил бандитов позади'\n",
    "                else:\n",
    "                    way = 'спереди'\n",
    "                    retrit = 'вернулся к двери и бежал тем же путем, каким пришел'\n",
    "                print(f'Алибаба  слышит разбойники {way}. Алибаба  {retrit}.')\n",
    "                time.sleep(2)\n",
    "        else:\n",
    "            if counter == 0:\n",
    "                print('Перед ним появилась странная сущность.')\n",
    "                time.sleep(2)\n",
    "                print('Алибаба не сразу его узнал. Это был Аль-Кутбай. Бог учености, знаний, торговли, гаданий.')\n",
    "                time.sleep(2)\n",
    "            else: \n",
    "                print('Перед ним что-то мерцает. Это снова был Аль-Кутбай.')\n",
    "                time.sleep(2)\n",
    "            counter += 1    \n",
    "            print('Он обратился к Алибабе. И спросил: \"ты хочешь заново пройти эту дорогу?\"')\n",
    "            time.sleep(2)\n",
    "            test = int(input('0 - для да, 1 - для нет'))\n",
    "            if test == 1:\n",
    "                print('Алибаба выходит из пещеры и скрывается от разбойников')\n",
    "                time.sleep(2)\n",
    "                break\n",
    "            else:\n",
    "                print('Глаза алибабы затянула пелена. И через мгновение он снова стоял у развилки')\n",
    "                time.sleep(2)\n",
    "            choice = int(input('Куда ему повернуть? Налево - 1, Направо - 0'))\n",
    "            с = randint(0, 1)\n",
    "            if с == 1:\n",
    "                way = 'Он слышит лязг мечей позади. Алибаба молится ведь, это его последний день среди живых'\n",
    "            else:\n",
    "                way = \"Он слышит лязг мечей за дверью и убегает обратно откуда прибежал\"\n",
    "            print(f'Алибаба дошел до непреодолимой стены. {way}') \n",
    "            time.sleep(2) \n",
    "    print(f'Алибаба совершил пробегов в пещере: {counter}')\n",
    "    return \n",
    "    \n",
    "\n",
    "    "
   ]
  },
  {
   "cell_type": "code",
   "execution_count": 22,
   "metadata": {
    "scrolled": false
   },
   "outputs": [
    {
     "name": "stdout",
     "output_type": "stream",
     "text": [
      "Алибаба шел по пустыне с караваном\n",
      "На него напали разбойники\n",
      "Алибаба с поскакал в сторону пещеры, у которой он обычно отдыхал, потому что знал, что только там он сможет спастись \n",
      "Пещера была с развилкой и непреодолимой стеной в самом ее центре. Только зная секрет можно пройти сквозь нее.\n",
      "Алиба вошел в пещеру. И скрылся от глаз разбойников\n",
      "Его приключение начинается\n",
      "Знает ли Алибаба секрет? 1 - да, 0 - нет: 0\n",
      "0\n",
      "Алибаба дошел до развилки и замер\n",
      "Куда ему повернуть? Налево - 1, Направо - 00\n",
      "Алибаба дошел до непреодолимой стены. Он слышит лязг мечей позади. Алибаба молится ведь, это его последний день среди живых\n",
      "Перед ним появилась странная сущность.\n",
      "Алибаба не сразу его узнал. Это был Аль-Кутбай. Бог учености, знаний, торговли, гаданий.\n",
      "Он обратился к Алибабе. И спросил: \"ты хочешь заново пройти эту дорогу?\"\n",
      "0 - для да, 1 - для нет0\n",
      "Глаза алибабы затянула пелена. И через мгновение он снова стоял у развилки\n",
      "Куда ему повернуть? Налево - 1, Направо - 01\n",
      "Алибаба дошел до непреодолимой стены. Он слышит лязг мечей за дверью и убегает обратно откуда прибежал\n",
      "Перед ним что-то мерцает. Это снова был Аль-Кутбай.\n",
      "Он обратился к Алибабе. И спросил: \"ты хочешь заново пройти эту дорогу?\"\n",
      "0 - для да, 1 - для нет1\n",
      "Алибаба выходит из пещеры и скрывается от разбойников\n",
      "Алибаба совершил пробегов в пещере 2\n"
     ]
    }
   ],
   "source": [
    "Cave()"
   ]
  },
  {
   "cell_type": "code",
   "execution_count": null,
   "metadata": {},
   "outputs": [],
   "source": []
  },
  {
   "cell_type": "code",
   "execution_count": null,
   "metadata": {},
   "outputs": [],
   "source": []
  },
  {
   "cell_type": "code",
   "execution_count": null,
   "metadata": {},
   "outputs": [],
   "source": []
  },
  {
   "cell_type": "code",
   "execution_count": null,
   "metadata": {},
   "outputs": [],
   "source": []
  },
  {
   "cell_type": "code",
   "execution_count": null,
   "metadata": {},
   "outputs": [],
   "source": []
  },
  {
   "cell_type": "code",
   "execution_count": null,
   "metadata": {},
   "outputs": [],
   "source": []
  },
  {
   "cell_type": "code",
   "execution_count": null,
   "metadata": {},
   "outputs": [],
   "source": []
  },
  {
   "cell_type": "code",
   "execution_count": null,
   "metadata": {},
   "outputs": [],
   "source": []
  },
  {
   "cell_type": "code",
   "execution_count": null,
   "metadata": {},
   "outputs": [],
   "source": []
  },
  {
   "cell_type": "code",
   "execution_count": null,
   "metadata": {},
   "outputs": [],
   "source": []
  },
  {
   "cell_type": "code",
   "execution_count": null,
   "metadata": {},
   "outputs": [],
   "source": []
  },
  {
   "cell_type": "code",
   "execution_count": null,
   "metadata": {},
   "outputs": [],
   "source": []
  },
  {
   "cell_type": "code",
   "execution_count": null,
   "metadata": {},
   "outputs": [],
   "source": []
  },
  {
   "cell_type": "code",
   "execution_count": null,
   "metadata": {},
   "outputs": [],
   "source": []
  },
  {
   "cell_type": "code",
   "execution_count": null,
   "metadata": {},
   "outputs": [],
   "source": []
  }
 ],
 "metadata": {
  "kernelspec": {
   "display_name": "SageMath 9.2",
   "language": "sage",
   "name": "sagemath"
  },
  "language_info": {
   "codemirror_mode": {
    "name": "ipython",
    "version": 3
   },
   "file_extension": ".py",
   "mimetype": "text/x-python",
   "name": "python",
   "nbconvert_exporter": "python",
   "pygments_lexer": "ipython3",
   "version": "3.7.7"
  }
 },
 "nbformat": 4,
 "nbformat_minor": 4
}
