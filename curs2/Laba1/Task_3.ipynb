{
 "cells": [
  {
   "cell_type": "code",
   "execution_count": 7,
   "metadata": {},
   "outputs": [],
   "source": [
    "from math import ceil, sqrt\n",
    "\n",
    "\n",
    "def bsgs(g, h, p):\n",
    "    '''\n",
    "    Поиск x в h = g^x mod p, где p - простое число\n",
    "    '''\n",
    "    N = ceil(sqrt(p - 1))  # корень квадратный и округление в большую сторону\n",
    "\n",
    "    tbl = {pow(g, i, p): i for i in range(N)}\n",
    "\n",
    "\n",
    "    c = pow(g, N * (p - 2), p)\n",
    "\n",
    "\n",
    "    for j in range(N):\n",
    "        y = (h * pow(c, j, p)) % p\n",
    "        if y in tbl:\n",
    "            return j * N + tbl[y]\n",
    "\n",
    "    # Solution not found\n",
    "    return False"
   ]
  },
  {
   "cell_type": "code",
   "execution_count": 11,
   "metadata": {
    "scrolled": false
   },
   "outputs": [
    {
     "name": "stdout",
     "output_type": "stream",
     "text": [
      "12\n",
      "Поиск x  в h = g^x mod p, где p - простое число, h = 11, g = 2, p = 19\n"
     ]
    }
   ],
   "source": [
    "print(bsgs(2, 11, 19))\n",
    "print(f'Поиск x  в h = g^x mod p, где p - простое число, h = {11}, g = {2}, p = {19}')"
   ]
  },
  {
   "cell_type": "code",
   "execution_count": null,
   "metadata": {},
   "outputs": [],
   "source": []
  }
 ],
 "metadata": {
  "kernelspec": {
   "display_name": "SageMath 9.2",
   "language": "sage",
   "name": "sagemath"
  },
  "language_info": {
   "codemirror_mode": {
    "name": "ipython",
    "version": 3
   },
   "file_extension": ".py",
   "mimetype": "text/x-python",
   "name": "python",
   "nbconvert_exporter": "python",
   "pygments_lexer": "ipython3",
   "version": "3.7.7"
  }
 },
 "nbformat": 4,
 "nbformat_minor": 4
}
