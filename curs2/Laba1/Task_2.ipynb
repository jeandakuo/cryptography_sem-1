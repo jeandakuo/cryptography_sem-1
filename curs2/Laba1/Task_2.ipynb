{
 "cells": [
  {
   "cell_type": "code",
   "execution_count": 32,
   "metadata": {},
   "outputs": [],
   "source": [
    "from random import randint\n",
    "\n",
    "\n",
    "def Nach_usl(N: int):\n",
    "    m = randint(1, N-1)\n",
    "    k = pow(m, 2, N)\n",
    "    return k, m\n"
   ]
  },
  {
   "cell_type": "code",
   "execution_count": 33,
   "metadata": {},
   "outputs": [],
   "source": [
    "def dima_1(N):\n",
    "    r = randint(1, N - 1)\n",
    "    a = pow(r, 2, N)\n",
    "    return a, r\n"
   ]
  },
  {
   "cell_type": "code",
   "execution_count": 34,
   "metadata": {},
   "outputs": [],
   "source": [
    "def petya_2():\n",
    "    b = randint(0, 1)\n",
    "    return b"
   ]
  },
  {
   "cell_type": "code",
   "execution_count": 51,
   "metadata": {},
   "outputs": [],
   "source": [
    "def dima_3(b, N, r, k):\n",
    "    q = (int(pow(k, b)) * r) % N\n",
    "    return q"
   ]
  },
  {
   "cell_type": "code",
   "execution_count": 52,
   "metadata": {},
   "outputs": [],
   "source": [
    "def petya_4(q, a, b, N, m):\n",
    "    return (q * q )% N == (int(pow(m, b) )* a )% N\n",
    "    "
   ]
  },
  {
   "cell_type": "code",
   "execution_count": 53,
   "metadata": {},
   "outputs": [
    {
     "name": "stdout",
     "output_type": "stream",
     "text": [
      "N = 1657\n",
      "k = 152, k^2 = m = 534 mod 1657\n",
      "r = 737, r^2 = a = 1330 mod 1657\n",
      "b = 1\n",
      "q = 1005 mod 1657\n",
      "False, 912 (q^2 mod N) == 1024 (m^b * a mod N)\n",
      "0.0027937889099121094\n"
     ]
    }
   ],
   "source": [
    "import time\n",
    "cur_time = time.time()\n",
    "N = random_prime(2^11, 2^12)\n",
    "print (f'N = {N}')\n",
    "\n",
    "k, m = Nach_usl(N)\n",
    "print(f'k = {k}, k^2 = m = {m} mod {N}')\n",
    "\n",
    "a, r = dima_1(N)\n",
    "print(f'r = {r}, r^2 = a = {a} mod {N}')\n",
    "\n",
    "b = petya_2()\n",
    "print(f'b = {b}')\n",
    "\n",
    "q = dima_3(b, N, r, k)\n",
    "print(f'q = {q} mod {N}')\n",
    "\n",
    "print(f'{petya_4(q, a, b, N, m)}, {q*q % N} (q^2 mod N) == {pow(m, b) * a % N} (m^b * a mod N)')\n",
    "\n",
    "print(time.time() - cur_time)"
   ]
  },
  {
   "cell_type": "code",
   "execution_count": 21,
   "metadata": {},
   "outputs": [
    {
     "name": "stdout",
     "output_type": "stream",
     "text": [
      "k^b = 28566797\n",
      "k^b = 816061890839209\n",
      "k^b = 816061890839209\n"
     ]
    }
   ],
   "source": [
    "print(f'k^b = {int(k)**int(b) * int(r)}')\n",
    "print(f'k^b = {(int(k)**int(b) * int(r))**2}')\n",
    "print(f'k^b = {((int(k)*int(k))**int(b) * int(r)* int(r))}')"
   ]
  },
  {
   "cell_type": "code",
   "execution_count": 24,
   "metadata": {},
   "outputs": [
    {
     "name": "stdout",
     "output_type": "stream",
     "text": [
      "203.72265625\n"
     ]
    }
   ],
   "source": [
    "from sage.misc.getusage import *\n",
    "t1 = get_memory_usage()\n",
    "print(t1)"
   ]
  },
  {
   "cell_type": "code",
   "execution_count": null,
   "metadata": {},
   "outputs": [],
   "source": []
  }
 ],
 "metadata": {
  "kernelspec": {
   "display_name": "SageMath 9.2",
   "language": "sage",
   "name": "sagemath"
  },
  "language_info": {
   "codemirror_mode": {
    "name": "ipython",
    "version": 3
   },
   "file_extension": ".py",
   "mimetype": "text/x-python",
   "name": "python",
   "nbconvert_exporter": "python",
   "pygments_lexer": "ipython3",
   "version": "3.7.7"
  }
 },
 "nbformat": 4,
 "nbformat_minor": 4
}
