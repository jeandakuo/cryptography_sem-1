{
 "cells": [
  {
   "cell_type": "code",
   "execution_count": 26,
   "metadata": {},
   "outputs": [],
   "source": [
    "\n",
    "def ferma_num(n: int):\n",
    "    \"\"\"Числа ферма Fn = 2 ^ ( 2 ^ n) + 1\"\"\"\n",
    "    F_num = pow(2, pow(2, n)) + 1\n",
    "    return F_num\n",
    "    "
   ]
  },
  {
   "cell_type": "code",
   "execution_count": 16,
   "metadata": {},
   "outputs": [],
   "source": [
    "def Pepin_test(test_num: int):\n",
    "    \"\"\" число ферма является простым тогда и толко тогда, когда 3^((Fn-1)/2) = -1 (mod Fn)\"\"\"\n",
    "    Fn = ferma_num(test_num)\n",
    "    if pow(3, int((Fn - 1) / 2), int(Fn)) == (-1 % Fn):\n",
    "        return True\n",
    "    else:\n",
    "        return False"
   ]
  },
  {
   "cell_type": "code",
   "execution_count": 17,
   "metadata": {},
   "outputs": [],
   "source": [
    "def merc_num(n: int):\n",
    "    \"\"\"Числа Мерсена Mn = 2 ^ n - 1\"\"\"\n",
    "    M_num = pow(2, n) - 1\n",
    "    return M_num"
   ]
  },
  {
   "cell_type": "code",
   "execution_count": 34,
   "metadata": {},
   "outputs": [],
   "source": [
    "from sage.misc.getusage import *\n",
    "def LL_test(test_num: int):\n",
    "    Mn = merc_num(test_num)\n",
    "    S = 4\n",
    "    i = 1\n",
    "    while i != test_num - 1:\n",
    "        S = (S*S - 2) % Mn\n",
    "        i += 1\n",
    "    if S == 0:\n",
    "        return True\n",
    "    else: \n",
    "        return False\n",
    "    "
   ]
  },
  {
   "cell_type": "code",
   "execution_count": 20,
   "metadata": {},
   "outputs": [],
   "source": [
    "def aks(p):\n",
    "    if p == 2:\n",
    "        return True\n",
    "    c = 1\n",
    "    for i in range(p // 2 + 1):\n",
    "        c = c * (p - i) // (i + 1)\n",
    "        if c % p:\n",
    "            return False\n",
    "    return True"
   ]
  },
  {
   "cell_type": "code",
   "execution_count": 29,
   "metadata": {},
   "outputs": [
    {
     "name": "stdout",
     "output_type": "stream",
     "text": [
      "Число ферма от n = 10, Fn = 179769313486231590772930519078902473361797697894230657273430081157732675805500963132708477322407536021120113879871393357658789768814416622492847430639474124377767893424865485276302219601246094119453082952085005768838150682342462881473913110540827237163350510684586298239947245938479716304835356329624224137217\n",
      "False\n"
     ]
    }
   ],
   "source": [
    "print(\"Число ферма от n = 10, Fn =\",ferma_num(10))\n",
    "print(Pepin_test(10))"
   ]
  },
  {
   "cell_type": "code",
   "execution_count": 37,
   "metadata": {},
   "outputs": [
    {
     "name": "stdout",
     "output_type": "stream",
     "text": [
      "Число мерсена M =  10407932194664399081925240327364085538615262247266704805319112350403608059673360298012239441732324184842421613954281007791383566248323464908139906605677320762924129509389220345773183349661583550472959420547689811211693677147548478866962501384438260291732348885311160828538416585028255604666224831890918801847068222203140521026698435488732958028878050869736186900714720710555703168729087\n",
      "True\n"
     ]
    }
   ],
   "source": [
    "print(\"Число мерсена M = \",merc_num(1279))\n",
    "print(LL_test(1279))"
   ]
  },
  {
   "cell_type": "code",
   "execution_count": 35,
   "metadata": {},
   "outputs": [
    {
     "name": "stdout",
     "output_type": "stream",
     "text": [
      "1279\n"
     ]
    }
   ],
   "source": [
    "n = 1026\n",
    "while LL_test(n) != True:\n",
    "    n += 1\n",
    "print(n)"
   ]
  },
  {
   "cell_type": "code",
   "execution_count": null,
   "metadata": {},
   "outputs": [],
   "source": []
  }
 ],
 "metadata": {
  "kernelspec": {
   "display_name": "Python 3",
   "language": "python",
   "name": "python3"
  },
  "language_info": {
   "codemirror_mode": {
    "name": "ipython",
    "version": 3
   },
   "file_extension": ".py",
   "mimetype": "text/x-python",
   "name": "python",
   "nbconvert_exporter": "python",
   "pygments_lexer": "ipython3",
   "version": "3.7.7"
  }
 },
 "nbformat": 4,
 "nbformat_minor": 4
}
