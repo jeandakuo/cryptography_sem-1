{
 "cells": [
  {
   "cell_type": "code",
   "execution_count": 58,
   "metadata": {},
   "outputs": [],
   "source": [
    " from random import randint"
   ]
  },
  {
   "cell_type": "code",
   "execution_count": 45,
   "metadata": {},
   "outputs": [],
   "source": [
    "# -*- coding: utf-8 -*-\n",
    "def form_dict():\n",
    "    d = {}\n",
    "    iter = 0\n",
    "    for i in range(97,123):\n",
    "        d[iter] = chr(i)\n",
    "        iter = iter +1\n",
    "    d[26] = ' '\n",
    "    return d\n",
    "\n",
    "\n",
    "def get_key(d, value):\n",
    "    for k, v in d.items():\n",
    "        if v == value:\n",
    "            return k"
   ]
  },
  {
   "cell_type": "code",
   "execution_count": 46,
   "metadata": {},
   "outputs": [],
   "source": [
    "def letter_to_num(string_list, alphabet):\n",
    "    nums = []\n",
    "    for i in string_list:\n",
    "        nums.append(get_key(alphabet, i))\n",
    "    return nums"
   ]
  },
  {
   "cell_type": "code",
   "execution_count": 67,
   "metadata": {},
   "outputs": [],
   "source": [
    "def num_to_letter(l, alphabet):\n",
    "    letters = []\n",
    "    for i in l:\n",
    "        let.append(alphabet[i])\n",
    "    return letters"
   ]
  },
  {
   "cell_type": "code",
   "execution_count": 47,
   "metadata": {},
   "outputs": [],
   "source": [
    "alphabet = form_dict()"
   ]
  },
  {
   "cell_type": "code",
   "execution_count": 48,
   "metadata": {},
   "outputs": [],
   "source": [
    "p_layer_order = [0, 16, 13, 17, 2, 15, 3, 19, 4, 20, 5, 21, 6, 22, 7, 23, 8, 11, 9, 25, 10, 26, 24, 12, 1, 14, 18]"
   ]
  },
  {
   "cell_type": "code",
   "execution_count": 50,
   "metadata": {},
   "outputs": [],
   "source": [
    "alphabet_key = {}\n",
    "for i in range(len(alphabet)):\n",
    "    alphabet_key[i]=alphabet[p_layer_order[i]] "
   ]
  },
  {
   "cell_type": "code",
   "execution_count": 51,
   "metadata": {},
   "outputs": [],
   "source": [
    "public_text = \"After school Kamal took the girls to the old house It was very old and very dirty too There was rubbish everywhere The windows were broken and the walls were damp It was scary Amy didnt like it There were paintings of zombies and skeletons on the walls Were going to take photos for the school art competition said Kamal Amy didnt like it but she didnt say anything Wheres Grant asked Tara Er hes buying more paint Kamal looked away quickly Tara thought he looked suspicious Its getting dark can we go now said Amy She didnt like zombies\".lower()"
   ]
  },
  {
   "cell_type": "code",
   "execution_count": 52,
   "metadata": {},
   "outputs": [],
   "source": [
    "def encript(s):\n",
    "    state = letter_to_num(s, alphabet)\n",
    "    s1 =''\n",
    "    for i in state:\n",
    "        s1 += alphabet_key[i]\n",
    "    return s1"
   ]
  },
  {
   "cell_type": "code",
   "execution_count": 53,
   "metadata": {},
   "outputs": [],
   "source": [
    "def decript(secret):\n",
    "    state = letter_to_num(secret, alphabet_key)\n",
    "    s1 =''\n",
    "    for i in state:\n",
    "        s1 += alphabet[i]\n",
    "    return s1"
   ]
  },
  {
   "cell_type": "code",
   "execution_count": 54,
   "metadata": {
    "scrolled": true
   },
   "outputs": [
    {
     "name": "stdout",
     "output_type": "stream",
     "text": [
      "apzclsjnthhvsfagavszhhfsztcsdelvjszhsztcshvrsthkjcsezsyajs clbshvrsawrs clbsrelzbszhhsztclcsyajslkqqejtsc clbytclcsztcsyewrhyjsyclcsqlhfcwsawrsztcsyavvjsyclcsragxsezsyajsjnalbsagbsrerwzsvefcsezsztclcsyclcsxaewzewdjshpsohgqecjsawrsjfcvczhwjshwsztcsyavvjsyclcsdhewdszhszafcsxthzhjsphlsztcsjnthhvsalzsnhgxczezehwsjaersfagavsagbsrerwzsvefcsezsqkzsjtcsrerwzsjabsawbztewdsytclcjsdlawzsajfcrszalasclstcjsqkbewdsghlcsxaewzsfagavsvhhfcrsayabsikenfvbszalaszthkdtzstcsvhhfcrsjkjxenehkjsezjsdczzewdsralfsnawsycsdhswhysjaersagbsjtcsrerwzsvefcsohgqecj\n",
      "\n",
      "after school kamal took the girls to the old house it was very old and very dirty too there was rubbish everywhere the windows were broken and the walls were damp it was scary amy didnt like it there were paintings of zombies and skeletons on the walls were going to take photos for the school art competition said kamal amy didnt like it but she didnt say anything wheres grant asked tara er hes buying more paint kamal looked away quickly tara thought he looked suspicious its getting dark can we go now said amy she didnt like zombies\n"
     ]
    }
   ],
   "source": [
    "secret = encript(public_text)\n",
    "print(secret)\n",
    "print()\n",
    "print(decript(secret))"
   ]
  },
  {
   "cell_type": "markdown",
   "metadata": {},
   "source": [
    "***Моя модификация***\n",
    "\n",
    "По символьный xor каждого значения \n",
    " \n",
    "\n",
    " ```"
   ]
  },
  {
   "cell_type": "code",
   "execution_count": 55,
   "metadata": {},
   "outputs": [
    {
     "name": "stdout",
     "output_type": "stream",
     "text": [
      "'\\x03\\x03\\x03\\x03'\n",
      "1111\n"
     ]
    }
   ],
   "source": [
    "# -*- coding: utf-8 -*-\n",
    "def sxor(s1, s2):\n",
    "    return ''.join(chr(ord(a) ^ ord(b)) for a, b in zip(s1, s2))\n",
    "\n",
    "\n",
    "print(repr(sxor('1111', '2222')))\n",
    "print(sxor(sxor('1111','2222'),'2222'))"
   ]
  },
  {
   "cell_type": "code",
   "execution_count": 64,
   "metadata": {},
   "outputs": [
    {
     "name": "stdout",
     "output_type": "stream",
     "text": [
      "mqwnutivb  gkrkjhanrxngfwgqspdhdxttvvvnjp pqmwojfgsreqyrohczpfldmnoiayhhzisapjyfsgkfubcsqzdydocmimyxgmevwcfibthfzkvamhcjfxnxo vrgstkmhrwqddmpxlrqjhfgoaxmrrbrgvprkourcvk bmeloxigbhax mdbjrempysucmqorrhormflgqrjdaxzjybpqsughqcyjsdvczwucvziliinhanzmbmd hsnxwhvnrmsukppuvrvabeekwhrsfe n jkvzdncaiwpryw prktdwltesqfxlcoazeismvhj hpln fbbzfnznhsakmdfvqz i kbnxjpvuwsjudzgbfaywyhpzgflmqxgvtqieeirauwddfltszjcivgbrdccfvcgskwhruwdimaedgmsokkig pcrqqmrkomuycohc slrhls le zysxyl rowcclfcigkhzqjklomejkukkqlafjobypwnvrygotwdtozbxgzvctal hqkktzq ggg\n"
     ]
    }
   ],
   "source": [
    "def key_gen(secret):\n",
    "    s1 = ''\n",
    "    for i in range (len(secret)):\n",
    "        a = randint(0, len(alphabet) - 1)\n",
    "        s1 += alphabet[a]\n",
    "    return s1\n",
    "key = key_gen(secret)\n",
    "print(key)"
   ]
  },
  {
   "cell_type": "code",
   "execution_count": 65,
   "metadata": {},
   "outputs": [],
   "source": [
    "def encript_mod(secret, key):\n",
    "    return sxor(secret, key)\n",
    "\n",
    "def decript_mod(secret, key):\n",
    "    return sxor(secret, key)  "
   ]
  },
  {
   "cell_type": "code",
   "execution_count": 66,
   "metadata": {},
   "outputs": [
    {
     "name": "stdout",
     "output_type": "stream",
     "text": [
      "\f",
      "\u0001\r",
      "\r",
      "\u0019\u0007\u0003\u0018\u0016HH\u0011\u0018\u0014\n",
      "\r",
      "\t\u0017\u001d",
      "\b\u0010\u0006\u0001\u0015\r",
      "\u0013\u0012\u0000\u0014\u0001\u0004\u0012\u0012\u0007\u000e\u001e",
      "\u0005\f",
      "\u001a\t\u0003H\u0006\u0003\u001e",
      "\u0003\u0007\u0001\f",
      "\u0004\u0000\u0017\u001f\u0002\u0000\u0013\u0005\u001bC\u0019\u001c",
      "\u0004\u001f\f",
      "\u001b\u001c",
      "\u001c",
      "\b\u0016\u000b",
      "\u001bH\u0019\u0005\u0011\u0012\u0002\u000f\u0015\u001c",
      "\u0011\u0014\u0011\u000e\u001d",
      "\u0011\u0019\u0007\u0012\u0016\u0007\n",
      "\u001d",
      "\u000e\t\u001e",
      "\u0005\u0006\b\t\u0002\u0007\u0011\u0005\u0014C\u0005\u0005\u0000\r",
      "\u001c",
      "\u0005\u0016\b\u0005\u001b\u0019\u000b",
      "\u0010\u0013\u0003\u000f\u001c",
      "\u0010\u0016J\u0005\u000b",
      "\u0004\u001f\u0017\u0018\u001c",
      "\u0004\u001a\u0011\u0012\u0013\u0017\f",
      "\u0007\n",
      "\u001f\b\u0005\t\u001b\u001f\u0006\u0019\u0017\u0012\u001e",
      "\u000b",
      "\u0011\u000e\u0011\u0014\u0004\u0011\u0015\u0013\u001c",
      "\u0010\b\u0010\u000f\n",
      "J\u0011\u0007\u000b",
      "\r",
      "\u0003\u001a\u001a\u0006\u0005\n",
      "\u0012\n",
      "E\u001f\u0013\u0018\u0019\u0004\u0000\u000b",
      "\u0013\n",
      "\u0016\u000f\u0010\u0017\u0005\f",
      "\u001e",
      "\u0011\u001b\u0016\u0011\u0001\u0005\u001f\u001f\u0010\u0017\u001d",
      "\u001e",
      "\u0004\u000f\u001e",
      "\u0000\n",
      "\n",
      "\u0000\u0002\u001c",
      "\u001d",
      "\u0000\u0019\u0014\u0000\u0013\u0019\u0012\u0013\u0004\u0010\u0010\u0011\u0016\u0015\u0015\u0000\u0001\u001b\u0003\u001a\u0006\u001f\u0012\u0014\u000e\u000e\u0011\u0014\u0005V\u001e",
      "\u0019\u001d",
      "\u0001\u0014\u0004\u0015\u001d",
      "\u0016\u0005\u0016\u0002\u000f\u0003\n",
      "\u001d",
      "\u0005\b\u0017\u0007\u0001\u0016\u001d",
      "\u001f\u001f\u0012\u001a\u0019\u0015\u0015H\u0002S\u0010\u001f\u0015\t\u000e\u0000\u0017\t\u0001\u0001\u0003\u0013\u0015\r",
      "S\u001e",
      "\u001a\f",
      "\f",
      "\u0007\r",
      "\t\u000e\u0000\u001b\u0006\u0015\u0012\r",
      "\u0006\u001d",
      "\u0012\u001c",
      "\u0004\u000e\u0012\u001b\u0005\t\r",
      "B\u001b\u0002\t\u001c",
      "W\u001c",
      "\u0011\u0014\u001f\u0000\r",
      "\t\u000b",
      "\u0012\u0000\u0010\u0000\u0017\u0017\f",
      "\u0002\u0012\tR\f",
      "R\u001c",
      "\u0018\u001d",
      "\u0012\u000b",
      "\u0012\u0005\u0014\u0000\u0011\u0010\u0001\u0001\r",
      "\u0003\u0011\u001f\u0015\u001a\u001b\u001a\u0002\u0003\u001e",
      "\u000b",
      "\u0007\u001b\u0017\u0002\u0019\r",
      "\u0010\u0017\u0003\u001a\u001f\u0004\u0005\u0013\u0012\u0016\u001b\u0017\u0010\u0005\u0006\u0007\u0002\u0011\b\u0006\u001e",
      "\u0012\u0014\u0005\u001a\b\u0000\u0010\u001e",
      "\u0017\u0006\u0010\t\u0018\u0011\t\u0015\u0014\u0001\u0017\u001f\u0005\t\u0003\u0007\u0015\u001e",
      "\u0012\u0016\n",
      "\t\u001a\u000eK\u0015\r",
      "\u0014\u0007\u0013\u001e",
      "\b\n",
      "\u0003\f",
      "\u0006\u0003\u0017\u0007\u0003\u0007T\t\u001f\u0006\u000b",
      "\u001f\u0005H\u0004\u0003C\b\n",
      "\u0019\u0013\u0013\u0014E\u001c",
      "\n",
      "\u001f\b\t\u001f\u0003\u0019\u0003\u0014\u000f\u000b",
      "\u0000\u000b",
      "\u000f\u001c",
      "\b\u001c",
      "\u001f\u0004\u0006\r",
      "\u0006\u0005\n",
      "\u0006\u001f\u0018\u0005\u0019\u000b",
      "\n",
      "\n",
      "\u0007\u001f\u0017\u0005\u0018\u0018\u0002\u001d",
      "\u0007\u0016\u0003\u0016\u001c",
      "\u0010\u0016\u001b\u0014\b\u0013\u0011\u0003\u001b\u001fV\r",
      "\u0017\b\u0018\u001b\u0012\u0016Q\u0002\u0004\r\n",
      "\n",
      "apzclsjnthhvsfagavszhhfsztcsdelvjszhsztcshvrsthkjcsezsyajs clbshvrsawrs clbsrelzbszhhsztclcsyajslkqqejtsc clbytclcsztcsyewrhyjsyclcsqlhfcwsawrsztcsyavvjsyclcsragxsezsyajsjnalbsagbsrerwzsvefcsezsztclcsyclcsxaewzewdjshpsohgqecjsawrsjfcvczhwjshwsztcsyavvjsyclcsdhewdszhszafcsxthzhjsphlsztcsjnthhvsalzsnhgxczezehwsjaersfagavsagbsrerwzsvefcsezsqkzsjtcsrerwzsjabsawbztewdsytclcjsdlawzsajfcrszalasclstcjsqkbewdsghlcsxaewzsfagavsvhhfcrsayabsikenfvbszalaszthkdtzstcsvhhfcrsjkjxenehkjsezjsdczzewdsralfsnawsycsdhswhysjaersagbsjtcsrerwzsvefcsohgqecj\n",
      "\n",
      "after school kamal took the girls to the old house it was very old and very dirty too there was rubbish everywhere the windows were broken and the walls were damp it was scary amy didnt like it there were paintings of zombies and skeletons on the walls were going to take photos for the school art competition said kamal amy didnt like it but she didnt say anything wheres grant asked tara er hes buying more paint kamal looked away quickly tara thought he looked suspicious its getting dark can we go now said amy she didnt like zombies\n"
     ]
    }
   ],
   "source": [
    "secret_mod = encript_mod(secret, key)\n",
    "print(secret_mod)\n",
    "print()\n",
    "print(decript_mod(secret_mod, key))  \n",
    "print()\n",
    "print(decript(decript_mod(secret_mod, key)))"
   ]
  },
  {
   "cell_type": "code",
   "execution_count": null,
   "metadata": {},
   "outputs": [],
   "source": []
  }
 ],
 "metadata": {
  "kernelspec": {
   "display_name": "Python 3",
   "language": "python",
   "name": "python3"
  },
  "language_info": {
   "codemirror_mode": {
    "name": "ipython",
    "version": 3
   },
   "file_extension": ".py",
   "mimetype": "text/x-python",
   "name": "python",
   "nbconvert_exporter": "python",
   "pygments_lexer": "ipython3",
   "version": "3.7.7"
  }
 },
 "nbformat": 4,
 "nbformat_minor": 4
}
