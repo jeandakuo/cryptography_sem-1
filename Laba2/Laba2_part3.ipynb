{
 "cells": [
  {
   "cell_type": "code",
   "execution_count": 66,
   "metadata": {},
   "outputs": [],
   "source": [
    "from random import randint\n",
    "\n",
    "def alisa_step1(q: int, p: int):\n",
    "    \"\"\"\n",
    "    Алиса придумывает N, такое что N = p * q\n",
    "    Отправляет N Бобу\n",
    "    \"\"\"\n",
    "    return q*p\n",
    "\n",
    "\n",
    "def bob_step2(N: int):\n",
    "    \"\"\"\n",
    "    Боб выбирает случайное число r такое, что  0 < r < N / 2\n",
    "    Возводит его в квадрат по модулю N\n",
    "    Отправляет z Алисе    \n",
    "    \"\"\"\n",
    "    r = randint(1,(N - 1) / 2 )\n",
    "    z = pow(r, 2, N)\n",
    "    return z\n",
    "\n",
    "\n",
    "def alisa_step3(z: int):\n",
    "    \"\"\"\n",
    "    Алиса находит корни из z.\n",
    "    Отправляет mi бобу\n",
    "    \n",
    "    \"\"\"\n",
    "    R = Integers(N) # Кольцо по Модулю N\n",
    "    m = R(z).sqrt(all = True) # Находит все корни числа z\n",
    "    return m[randint(0, len(m) - 1)]   \n",
    "\n",
    "\n",
    "def bob_step4(mi: int):\n",
    "    \"\"\"\n",
    "    Боб проеряет угадала ли алиса его число\n",
    "    \n",
    "    \"\"\"\n",
    "    if mi == r:\n",
    "        a = True\n",
    "    else: \n",
    "        a = false\n",
    "    return a"
   ]
  },
  {
   "cell_type": "code",
   "execution_count": 74,
   "metadata": {},
   "outputs": [
    {
     "name": "stdout",
     "output_type": "stream",
     "text": [
      "91\n",
      "9 по модулю 91\n",
      "True - 3\n"
     ]
    }
   ],
   "source": [
    "p = 13\n",
    "\n",
    "q = 7\n",
    "N = alisa_step1(q, p)\n",
    "print(N)\n",
    "z = bob_step2(N)\n",
    "print( f'{z} по модулю {N}')\n",
    "mi = alisa_step3( z )\n",
    "gs = bob_step4(mi)\n",
    "print(f'{gs} - {mi}')\n"
   ]
  },
  {
   "cell_type": "code",
   "execution_count": null,
   "metadata": {},
   "outputs": [],
   "source": []
  },
  {
   "cell_type": "code",
   "execution_count": null,
   "metadata": {},
   "outputs": [],
   "source": []
  }
 ],
 "metadata": {
  "kernelspec": {
   "display_name": "SageMath 9.2",
   "language": "sage",
   "name": "sagemath"
  },
  "language_info": {
   "codemirror_mode": {
    "name": "ipython",
    "version": 3
   },
   "file_extension": ".py",
   "mimetype": "text/x-python",
   "name": "python",
   "nbconvert_exporter": "python",
   "pygments_lexer": "ipython3",
   "version": "3.7.7"
  }
 },
 "nbformat": 4,
 "nbformat_minor": 4
}
