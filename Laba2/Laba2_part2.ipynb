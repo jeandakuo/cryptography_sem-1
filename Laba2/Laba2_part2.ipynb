{
 "cells": [
  {
   "cell_type": "code",
   "execution_count": 44,
   "metadata": {},
   "outputs": [
    {
     "name": "stdout",
     "output_type": "stream",
     "text": [
      "45\n",
      "[\n",
      "x == 19665672110189579,\n",
      "x == 256735638115648949\n",
      "]\n"
     ]
    }
   ],
   "source": [
    "\n",
    "\"\"\"\n",
    "continued_fraction() - метод Sage по раскладыванию вещестенного числа в цепную дробь \n",
    " \n",
    "РЕШЕНИЕ УРАВННЕНИЙ\n",
    "x = var('x')\n",
    "slove\n",
    "\"\"\"\n",
    "\n",
    "e = 4705751187432365266054022937100375\n",
    "N = 5048878878182642176438439002102471\n",
    "\n",
    "con_frac = continued_fraction(e / N)\n",
    "print(len(con_frac))\n",
    "v = []\n",
    "v_minus1 = 0\n",
    "v_minus2 = 1\n",
    "v.append(con_frac[0] * v_minus1 + v_minus2)\n",
    "v.append(con_frac[1] * v[0] + v_minus1)\n",
    "\n",
    "for i in range(2, len(con_frac)):\n",
    "    v.append(con_frac[i] * v[i - 1] + v[ i - 2])\n",
    "\n",
    "u = []\n",
    "u_minus1 = 1\n",
    "u_minus2 = 0\n",
    "u.append(con_frac[0] * u_minus1 + u_minus2)\n",
    "u.append(con_frac[1] * u[0] + u_minus1)\n",
    "\n",
    "\n",
    "for i in range(2, len(con_frac)):\n",
    "    u.append(con_frac[i] * u[i - 1] + u[i - 2])  \n",
    "phi_ot_N = []\n",
    "for i in range(1, len(v)):\n",
    "    phi_ot_N.append((e * v[i] - 1) / u[i] )\n",
    "x = var('x')\n",
    "solves = []\n",
    "\n",
    "for i in range (len(phi_ot_N)):\n",
    "    sloves.append(solve([x ^ 2 - ((N -phi_ot_N[i]) + 1) * x + N == 0], x))\n",
    "print(sloves[4])\n"
   ]
  },
  {
   "cell_type": "code",
   "execution_count": 57,
   "metadata": {},
   "outputs": [
    {
     "name": "stdout",
     "output_type": "stream",
     "text": [
      "103\n"
     ]
    }
   ],
   "source": [
    "string = str(sloves[4]).replace('x == ','',2)\n",
    "string = string.replace('\\n', '', 3)\n",
    "string = string.replace('[', '')\n",
    "string = string.replace(']', '')\n",
    "l = string.split(',')\n",
    "q = int(l[0])\n",
    "p = int(l[1])\n",
    "d = inverse_mod(e, (p - 1) * (q - 1))\n",
    "print(d)"
   ]
  },
  {
   "cell_type": "code",
   "execution_count": null,
   "metadata": {},
   "outputs": [],
   "source": []
  }
 ],
 "metadata": {
  "kernelspec": {
   "display_name": "SageMath 9.2",
   "language": "sage",
   "name": "sagemath"
  },
  "language_info": {
   "codemirror_mode": {
    "name": "ipython",
    "version": 3
   },
   "file_extension": ".py",
   "mimetype": "text/x-python",
   "name": "python",
   "nbconvert_exporter": "python",
   "pygments_lexer": "ipython3",
   "version": "3.7.7"
  }
 },
 "nbformat": 4,
 "nbformat_minor": 4
}
